{
  "nbformat": 4,
  "nbformat_minor": 0,
  "metadata": {
    "colab": {
      "provenance": [],
      "toc_visible": true
    },
    "kernelspec": {
      "name": "python3",
      "display_name": "Python 3"
    },
    "language_info": {
      "name": "python"
    }
  },
  "cells": [
    {
      "cell_type": "markdown",
      "source": [
        "##Mean-Variance-Standard Deviation Calculator\n",
        "Create a function named calculate() in mean_var_std.py that uses Numpy to output the mean, variance, standard deviation, max, min, and sum of the rows, columns, and elements in a 3 x 3 matrix."
      ],
      "metadata": {
        "id": "P0Mj7SlqcU29"
      }
    },
    {
      "cell_type": "code",
      "execution_count": null,
      "metadata": {
        "id": "I2vtg96pcRgq"
      },
      "outputs": [],
      "source": [
        "import numpy as np"
      ]
    },
    {
      "cell_type": "markdown",
      "source": [
        "####Create the array and reshape it"
      ],
      "metadata": {
        "id": "5i_hkl8PeSdb"
      }
    },
    {
      "cell_type": "code",
      "source": [
        "array = np.array([0,1,2,3,4,5,6,7,8])\n",
        "array = array.reshape(3, 3)"
      ],
      "metadata": {
        "id": "dEwgaKUmcXwh"
      },
      "execution_count": null,
      "outputs": []
    },
    {
      "cell_type": "markdown",
      "source": [
        "####Find the **Mean**"
      ],
      "metadata": {
        "id": "rc3DxsOVeWto"
      }
    },
    {
      "cell_type": "code",
      "source": [
        "print(np.mean(array))\n",
        "print(list(np.mean(array, axis=0)))\n",
        "print(list(np.mean(array, axis=1)))"
      ],
      "metadata": {
        "colab": {
          "base_uri": "https://localhost:8080/"
        },
        "id": "TuCwMkzOcrKm",
        "outputId": "bf5eeafa-3a74-481e-e440-7c8989e522f1"
      },
      "execution_count": null,
      "outputs": [
        {
          "output_type": "stream",
          "name": "stdout",
          "text": [
            "4.0\n",
            "[3.0, 4.0, 5.0]\n",
            "[1.0, 4.0, 7.0]\n"
          ]
        }
      ]
    },
    {
      "cell_type": "markdown",
      "source": [
        "####Find the **Variance**"
      ],
      "metadata": {
        "id": "85xIO28vemEs"
      }
    },
    {
      "cell_type": "code",
      "source": [
        "print(np.var(array))\n",
        "print(list(np.var(array, axis=0)))\n",
        "print(list(np.var(array, axis=1)))"
      ],
      "metadata": {
        "colab": {
          "base_uri": "https://localhost:8080/"
        },
        "id": "hTCuqxlMeo7U",
        "outputId": "77ec4cc3-88e0-4f37-853e-b2e12c16d9ab"
      },
      "execution_count": null,
      "outputs": [
        {
          "output_type": "stream",
          "name": "stdout",
          "text": [
            "6.666666666666667\n",
            "[6.0, 6.0, 6.0]\n",
            "[0.6666666666666666, 0.6666666666666666, 0.6666666666666666]\n"
          ]
        }
      ]
    },
    {
      "cell_type": "markdown",
      "source": [
        "####Find the **Standard Deviation**"
      ],
      "metadata": {
        "id": "JD5CTFEDexa6"
      }
    },
    {
      "cell_type": "code",
      "source": [
        "print(np.std(array))\n",
        "print(list(np.std(array, axis=0)))\n",
        "print(list(np.std(array, axis=1)))"
      ],
      "metadata": {
        "colab": {
          "base_uri": "https://localhost:8080/"
        },
        "id": "aD0u8Kqee1sb",
        "outputId": "14e3e354-4be9-4943-82de-ad99b6f5de3a"
      },
      "execution_count": null,
      "outputs": [
        {
          "output_type": "stream",
          "name": "stdout",
          "text": [
            "2.581988897471611\n",
            "[2.449489742783178, 2.449489742783178, 2.449489742783178]\n",
            "[0.816496580927726, 0.816496580927726, 0.816496580927726]\n"
          ]
        }
      ]
    },
    {
      "cell_type": "markdown",
      "source": [
        "####Find the **Max**"
      ],
      "metadata": {
        "id": "PV6sSpTJe-xr"
      }
    },
    {
      "cell_type": "code",
      "source": [
        "print(np.max(array))\n",
        "print(list(np.max(array, axis=0)))\n",
        "print(list(np.max(array, axis=1)))"
      ],
      "metadata": {
        "colab": {
          "base_uri": "https://localhost:8080/"
        },
        "id": "-UpOT4P8fGu5",
        "outputId": "d02c3254-d361-4e9c-b4f9-1ab0eaae5b81"
      },
      "execution_count": null,
      "outputs": [
        {
          "output_type": "stream",
          "name": "stdout",
          "text": [
            "8\n",
            "[6, 7, 8]\n",
            "[2, 5, 8]\n"
          ]
        }
      ]
    },
    {
      "cell_type": "markdown",
      "source": [
        "####Find the **Min**"
      ],
      "metadata": {
        "id": "Wv9kFd4ZfCID"
      }
    },
    {
      "cell_type": "code",
      "source": [
        "print(np.min(array))\n",
        "print(list(np.min(array, axis=0)))\n",
        "print(list(np.min(array, axis=1)))"
      ],
      "metadata": {
        "colab": {
          "base_uri": "https://localhost:8080/"
        },
        "id": "0v7RrSzYfLL8",
        "outputId": "d4b5e9d8-fa87-4145-c961-11901bba43f1"
      },
      "execution_count": null,
      "outputs": [
        {
          "output_type": "stream",
          "name": "stdout",
          "text": [
            "0\n",
            "[0, 1, 2]\n",
            "[0, 3, 6]\n"
          ]
        }
      ]
    },
    {
      "cell_type": "markdown",
      "source": [
        "####Find the **Sum**"
      ],
      "metadata": {
        "id": "xtcBGP0NfD1d"
      }
    },
    {
      "cell_type": "code",
      "source": [
        "print(np.sum(array))\n",
        "print(list(np.sum(array, axis=0)))\n",
        "print(list(np.sum(array, axis=1)))"
      ],
      "metadata": {
        "colab": {
          "base_uri": "https://localhost:8080/"
        },
        "id": "nPtDK7u7fSsK",
        "outputId": "8510fe47-6cb3-416c-e179-38b3f7fc0f07"
      },
      "execution_count": null,
      "outputs": [
        {
          "output_type": "stream",
          "name": "stdout",
          "text": [
            "36\n",
            "[9, 12, 15]\n",
            "[3, 12, 21]\n"
          ]
        }
      ]
    },
    {
      "cell_type": "markdown",
      "source": [
        "##calculate() function"
      ],
      "metadata": {
        "id": "RO-A_NwIfd1u"
      }
    },
    {
      "cell_type": "code",
      "source": [
        "def calculate(values_list):\n",
        "  if len(values_list) != 9:\n",
        "    raise ValueError(\"List must contain nine numbers.\")\n",
        "  array = np.array(values_list).reshape(3, 3)\n",
        "  calculations = {\n",
        "      'mean': [list(np.mean(array, axis=0)), list(np.mean(array, axis=1)), np.mean(array)],\n",
        "      'variance': [list(np.var(array, axis=0)), list(np.var(array, axis=1)), np.var(array)],\n",
        "      'standard deviation': [list(np.std(array, axis=0)), list(np.std(array, axis=1)), np.std(array)],\n",
        "      'max': [list(np.max(array, axis=0)), list(np.max(array, axis=1)), np.max(array)],\n",
        "      'min': [list(np.min(array, axis=0)), list(np.min(array, axis=1)), np.min(array)],\n",
        "      'sum': [list(np.sum(array, axis=0)), list(np.sum(array, axis=1)), np.sum(array)]\n",
        "  }\n",
        "  return calculations"
      ],
      "metadata": {
        "id": "d27XYADDfhSa"
      },
      "execution_count": null,
      "outputs": []
    },
    {
      "cell_type": "markdown",
      "source": [
        "####Test the function"
      ],
      "metadata": {
        "id": "hv8uT4Alg67l"
      }
    },
    {
      "cell_type": "code",
      "source": [
        "calculate([0,1,2,3,4,5,6,7,8])"
      ],
      "metadata": {
        "colab": {
          "base_uri": "https://localhost:8080/"
        },
        "id": "C9CL8-YugFH7",
        "outputId": "b707d648-f27d-4f51-9bed-906c3cc1dcb9"
      },
      "execution_count": null,
      "outputs": [
        {
          "output_type": "execute_result",
          "data": {
            "text/plain": [
              "{'max': [[6, 7, 8], [2, 5, 8], 8],\n",
              " 'mean': [[3.0, 4.0, 5.0], [1.0, 4.0, 7.0], 4.0],\n",
              " 'min': [[0, 1, 2], [0, 3, 6], 0],\n",
              " 'standard deviation': [[2.449489742783178,\n",
              "   2.449489742783178,\n",
              "   2.449489742783178],\n",
              "  [0.816496580927726, 0.816496580927726, 0.816496580927726],\n",
              "  2.581988897471611],\n",
              " 'sum': [[9, 12, 15], [3, 12, 21], 36],\n",
              " 'variance': [[6.0, 6.0, 6.0],\n",
              "  [0.6666666666666666, 0.6666666666666666, 0.6666666666666666],\n",
              "  6.666666666666667]}"
            ]
          },
          "metadata": {},
          "execution_count": 35
        }
      ]
    },
    {
      "cell_type": "code",
      "source": [
        "calculate([0,1,2,3,4,5,6])"
      ],
      "metadata": {
        "id": "f2oxkYjXhPIW",
        "outputId": "76b12098-8a29-445a-c670-6c0ef269a929",
        "colab": {
          "base_uri": "https://localhost:8080/",
          "height": 287
        }
      },
      "execution_count": null,
      "outputs": [
        {
          "output_type": "error",
          "ename": "ValueError",
          "evalue": "ignored",
          "traceback": [
            "\u001b[0;31m---------------------------------------------------------------------------\u001b[0m",
            "\u001b[0;31mValueError\u001b[0m                                Traceback (most recent call last)",
            "\u001b[0;32m<ipython-input-36-ca853c609128>\u001b[0m in \u001b[0;36m<module>\u001b[0;34m()\u001b[0m\n\u001b[0;32m----> 1\u001b[0;31m \u001b[0mcalculate\u001b[0m\u001b[0;34m(\u001b[0m\u001b[0;34m[\u001b[0m\u001b[0;36m0\u001b[0m\u001b[0;34m,\u001b[0m\u001b[0;36m1\u001b[0m\u001b[0;34m,\u001b[0m\u001b[0;36m2\u001b[0m\u001b[0;34m,\u001b[0m\u001b[0;36m3\u001b[0m\u001b[0;34m,\u001b[0m\u001b[0;36m4\u001b[0m\u001b[0;34m,\u001b[0m\u001b[0;36m5\u001b[0m\u001b[0;34m,\u001b[0m\u001b[0;36m6\u001b[0m\u001b[0;34m]\u001b[0m\u001b[0;34m)\u001b[0m\u001b[0;34m\u001b[0m\u001b[0;34m\u001b[0m\u001b[0m\n\u001b[0m",
            "\u001b[0;32m<ipython-input-30-c972eb1b016c>\u001b[0m in \u001b[0;36mcalculate\u001b[0;34m(values_list)\u001b[0m\n\u001b[1;32m      1\u001b[0m \u001b[0;32mdef\u001b[0m \u001b[0mcalculate\u001b[0m\u001b[0;34m(\u001b[0m\u001b[0mvalues_list\u001b[0m\u001b[0;34m)\u001b[0m\u001b[0;34m:\u001b[0m\u001b[0;34m\u001b[0m\u001b[0;34m\u001b[0m\u001b[0m\n\u001b[1;32m      2\u001b[0m   \u001b[0;32mif\u001b[0m \u001b[0mlen\u001b[0m\u001b[0;34m(\u001b[0m\u001b[0mvalues_list\u001b[0m\u001b[0;34m)\u001b[0m \u001b[0;34m!=\u001b[0m \u001b[0;36m9\u001b[0m\u001b[0;34m:\u001b[0m\u001b[0;34m\u001b[0m\u001b[0;34m\u001b[0m\u001b[0m\n\u001b[0;32m----> 3\u001b[0;31m     \u001b[0;32mraise\u001b[0m \u001b[0mValueError\u001b[0m\u001b[0;34m(\u001b[0m\u001b[0;34m\"List must contain nine numbers.\"\u001b[0m\u001b[0;34m)\u001b[0m\u001b[0;34m\u001b[0m\u001b[0;34m\u001b[0m\u001b[0m\n\u001b[0m\u001b[1;32m      4\u001b[0m   \u001b[0marray\u001b[0m \u001b[0;34m=\u001b[0m \u001b[0mnp\u001b[0m\u001b[0;34m.\u001b[0m\u001b[0marray\u001b[0m\u001b[0;34m(\u001b[0m\u001b[0mvalues_list\u001b[0m\u001b[0;34m)\u001b[0m\u001b[0;34m.\u001b[0m\u001b[0mreshape\u001b[0m\u001b[0;34m(\u001b[0m\u001b[0;36m3\u001b[0m\u001b[0;34m,\u001b[0m \u001b[0;36m3\u001b[0m\u001b[0;34m)\u001b[0m\u001b[0;34m\u001b[0m\u001b[0;34m\u001b[0m\u001b[0m\n\u001b[1;32m      5\u001b[0m   calculations = {\n",
            "\u001b[0;31mValueError\u001b[0m: List must contain nine numbers."
          ]
        }
      ]
    }
  ]
}